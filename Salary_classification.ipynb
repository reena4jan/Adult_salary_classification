{
 "cells": [
  {
   "cell_type": "code",
   "execution_count": 3,
   "metadata": {},
   "outputs": [],
   "source": [
    "import numpy as np\n",
    "import pandas as pd\n",
    "from collections import Counter\n",
    "\n",
    "# load dataset\n",
    "df = pd.read_csv('adult.csv')"
   ]
  },
  {
   "cell_type": "code",
   "execution_count": 57,
   "metadata": {},
   "outputs": [],
   "source": [
    "### EDA+Insights"
   ]
  },
  {
   "cell_type": "code",
   "execution_count": 4,
   "metadata": {},
   "outputs": [
    {
     "name": "stdout",
     "output_type": "stream",
     "text": [
      "<class 'pandas.core.frame.DataFrame'>\n",
      "RangeIndex: 32561 entries, 0 to 32560\n",
      "Data columns (total 15 columns):\n",
      " #   Column          Non-Null Count  Dtype \n",
      "---  ------          --------------  ----- \n",
      " 0   age             32561 non-null  int64 \n",
      " 1   workclass       32561 non-null  object\n",
      " 2   fnlwgt          32561 non-null  int64 \n",
      " 3   education       32561 non-null  object\n",
      " 4   education-num   32561 non-null  int64 \n",
      " 5   marital-status  32561 non-null  object\n",
      " 6   occupation      32561 non-null  object\n",
      " 7   relationship    32561 non-null  object\n",
      " 8   race            32561 non-null  object\n",
      " 9   sex             32561 non-null  object\n",
      " 10  capital-gain    32561 non-null  int64 \n",
      " 11  capital-loss    32561 non-null  int64 \n",
      " 12  hours-per-week  32561 non-null  int64 \n",
      " 13  country         32561 non-null  object\n",
      " 14  salary          32561 non-null  object\n",
      "dtypes: int64(6), object(9)\n",
      "memory usage: 3.7+ MB\n"
     ]
    }
   ],
   "source": [
    "df.info()"
   ]
  },
  {
   "cell_type": "code",
   "execution_count": 5,
   "metadata": {},
   "outputs": [
    {
     "data": {
      "text/html": [
       "<div>\n",
       "<style scoped>\n",
       "    .dataframe tbody tr th:only-of-type {\n",
       "        vertical-align: middle;\n",
       "    }\n",
       "\n",
       "    .dataframe tbody tr th {\n",
       "        vertical-align: top;\n",
       "    }\n",
       "\n",
       "    .dataframe thead th {\n",
       "        text-align: right;\n",
       "    }\n",
       "</style>\n",
       "<table border=\"1\" class=\"dataframe\">\n",
       "  <thead>\n",
       "    <tr style=\"text-align: right;\">\n",
       "      <th></th>\n",
       "      <th>age</th>\n",
       "      <th>workclass</th>\n",
       "      <th>fnlwgt</th>\n",
       "      <th>education</th>\n",
       "      <th>education-num</th>\n",
       "      <th>marital-status</th>\n",
       "      <th>occupation</th>\n",
       "      <th>relationship</th>\n",
       "      <th>race</th>\n",
       "      <th>sex</th>\n",
       "      <th>capital-gain</th>\n",
       "      <th>capital-loss</th>\n",
       "      <th>hours-per-week</th>\n",
       "      <th>country</th>\n",
       "      <th>salary</th>\n",
       "    </tr>\n",
       "  </thead>\n",
       "  <tbody>\n",
       "    <tr>\n",
       "      <th>0</th>\n",
       "      <td>39</td>\n",
       "      <td>State-gov</td>\n",
       "      <td>77516</td>\n",
       "      <td>Bachelors</td>\n",
       "      <td>13</td>\n",
       "      <td>Never-married</td>\n",
       "      <td>Adm-clerical</td>\n",
       "      <td>Not-in-family</td>\n",
       "      <td>White</td>\n",
       "      <td>Male</td>\n",
       "      <td>2174</td>\n",
       "      <td>0</td>\n",
       "      <td>40</td>\n",
       "      <td>United-States</td>\n",
       "      <td>&lt;=50K</td>\n",
       "    </tr>\n",
       "    <tr>\n",
       "      <th>1</th>\n",
       "      <td>50</td>\n",
       "      <td>Self-emp-not-inc</td>\n",
       "      <td>83311</td>\n",
       "      <td>Bachelors</td>\n",
       "      <td>13</td>\n",
       "      <td>Married-civ-spouse</td>\n",
       "      <td>Exec-managerial</td>\n",
       "      <td>Husband</td>\n",
       "      <td>White</td>\n",
       "      <td>Male</td>\n",
       "      <td>0</td>\n",
       "      <td>0</td>\n",
       "      <td>13</td>\n",
       "      <td>United-States</td>\n",
       "      <td>&lt;=50K</td>\n",
       "    </tr>\n",
       "    <tr>\n",
       "      <th>2</th>\n",
       "      <td>38</td>\n",
       "      <td>Private</td>\n",
       "      <td>215646</td>\n",
       "      <td>HS-grad</td>\n",
       "      <td>9</td>\n",
       "      <td>Divorced</td>\n",
       "      <td>Handlers-cleaners</td>\n",
       "      <td>Not-in-family</td>\n",
       "      <td>White</td>\n",
       "      <td>Male</td>\n",
       "      <td>0</td>\n",
       "      <td>0</td>\n",
       "      <td>40</td>\n",
       "      <td>United-States</td>\n",
       "      <td>&lt;=50K</td>\n",
       "    </tr>\n",
       "    <tr>\n",
       "      <th>3</th>\n",
       "      <td>53</td>\n",
       "      <td>Private</td>\n",
       "      <td>234721</td>\n",
       "      <td>11th</td>\n",
       "      <td>7</td>\n",
       "      <td>Married-civ-spouse</td>\n",
       "      <td>Handlers-cleaners</td>\n",
       "      <td>Husband</td>\n",
       "      <td>Black</td>\n",
       "      <td>Male</td>\n",
       "      <td>0</td>\n",
       "      <td>0</td>\n",
       "      <td>40</td>\n",
       "      <td>United-States</td>\n",
       "      <td>&lt;=50K</td>\n",
       "    </tr>\n",
       "    <tr>\n",
       "      <th>4</th>\n",
       "      <td>28</td>\n",
       "      <td>Private</td>\n",
       "      <td>338409</td>\n",
       "      <td>Bachelors</td>\n",
       "      <td>13</td>\n",
       "      <td>Married-civ-spouse</td>\n",
       "      <td>Prof-specialty</td>\n",
       "      <td>Wife</td>\n",
       "      <td>Black</td>\n",
       "      <td>Female</td>\n",
       "      <td>0</td>\n",
       "      <td>0</td>\n",
       "      <td>40</td>\n",
       "      <td>Cuba</td>\n",
       "      <td>&lt;=50K</td>\n",
       "    </tr>\n",
       "  </tbody>\n",
       "</table>\n",
       "</div>"
      ],
      "text/plain": [
       "   age          workclass  fnlwgt   education  education-num  \\\n",
       "0   39          State-gov   77516   Bachelors             13   \n",
       "1   50   Self-emp-not-inc   83311   Bachelors             13   \n",
       "2   38            Private  215646     HS-grad              9   \n",
       "3   53            Private  234721        11th              7   \n",
       "4   28            Private  338409   Bachelors             13   \n",
       "\n",
       "        marital-status          occupation    relationship    race      sex  \\\n",
       "0        Never-married        Adm-clerical   Not-in-family   White     Male   \n",
       "1   Married-civ-spouse     Exec-managerial         Husband   White     Male   \n",
       "2             Divorced   Handlers-cleaners   Not-in-family   White     Male   \n",
       "3   Married-civ-spouse   Handlers-cleaners         Husband   Black     Male   \n",
       "4   Married-civ-spouse      Prof-specialty            Wife   Black   Female   \n",
       "\n",
       "   capital-gain  capital-loss  hours-per-week         country  salary  \n",
       "0          2174             0              40   United-States   <=50K  \n",
       "1             0             0              13   United-States   <=50K  \n",
       "2             0             0              40   United-States   <=50K  \n",
       "3             0             0              40   United-States   <=50K  \n",
       "4             0             0              40            Cuba   <=50K  "
      ]
     },
     "execution_count": 5,
     "metadata": {},
     "output_type": "execute_result"
    }
   ],
   "source": [
    "df.head()"
   ]
  },
  {
   "cell_type": "code",
   "execution_count": 19,
   "metadata": {},
   "outputs": [
    {
     "data": {
      "text/plain": [
       "age               0\n",
       "workclass         0\n",
       "fnlwgt            0\n",
       "education         0\n",
       "education-num     0\n",
       "marital-status    0\n",
       "occupation        0\n",
       "relationship      0\n",
       "race              0\n",
       "sex               0\n",
       "capital-gain      0\n",
       "capital-loss      0\n",
       "hours-per-week    0\n",
       "country           0\n",
       "salary            0\n",
       "dtype: int64"
      ]
     },
     "execution_count": 19,
     "metadata": {},
     "output_type": "execute_result"
    }
   ],
   "source": [
    "df.isnull().sum()"
   ]
  },
  {
   "cell_type": "code",
   "execution_count": 20,
   "metadata": {},
   "outputs": [
    {
     "name": "stdout",
     "output_type": "stream",
     "text": [
      "Class:  <=50K, Count = 24720, Percentage = 75.9%.\n",
      "Class:  >50K, Count = 7841, Percentage = 24.1%.\n"
     ]
    }
   ],
   "source": [
    "# check the label class and it's distribution percentage\n",
    "label = df.values[:, -1]\n",
    "counter = Counter(label)\n",
    "for key, value in counter.items():\n",
    "    percentage = value / len(label) * 100\n",
    "    print(f\"Class: {key}, Count = {value}, Percentage = {percentage:.1f}%.\")"
   ]
  },
  {
   "cell_type": "code",
   "execution_count": 21,
   "metadata": {},
   "outputs": [],
   "source": [
    "numerical_subset = df.select_dtypes(include=['int64', 'float64'])"
   ]
  },
  {
   "cell_type": "code",
   "execution_count": 22,
   "metadata": {},
   "outputs": [
    {
     "name": "stdout",
     "output_type": "stream",
     "text": [
      "       age  fnlwgt  education-num  capital-gain  capital-loss  hours-per-week\n",
      "0       39   77516             13          2174             0              40\n",
      "1       50   83311             13             0             0              13\n",
      "2       38  215646              9             0             0              40\n",
      "3       53  234721              7             0             0              40\n",
      "4       28  338409             13             0             0              40\n",
      "...    ...     ...            ...           ...           ...             ...\n",
      "32556   27  257302             12             0             0              38\n",
      "32557   40  154374              9             0             0              40\n",
      "32558   58  151910              9             0             0              40\n",
      "32559   22  201490              9             0             0              20\n",
      "32560   52  287927              9         15024             0              40\n",
      "\n",
      "[32561 rows x 6 columns]\n"
     ]
    }
   ],
   "source": [
    "print(numerical_subset)"
   ]
  },
  {
   "cell_type": "code",
   "execution_count": 23,
   "metadata": {},
   "outputs": [
    {
     "data": {
      "image/png": "[encoded data removed]",
      "text/plain": [
       "<Figure size 1440x1080 with 6 Axes>"
      ]
     },
     "metadata": {
      "needs_background": "light"
     },
     "output_type": "display_data"
    }
   ],
   "source": [
    "import matplotlib.pyplot as plt\n",
    "numerical_subset.hist(bins=20, figsize=(20, 15))\n",
    "plt.show()"
   ]
  },
  {
   "cell_type": "code",
   "execution_count": 58,
   "metadata": {},
   "outputs": [],
   "source": [
    "#Data Cleaning"
   ]
  },
  {
   "cell_type": "code",
   "execution_count": 25,
   "metadata": {},
   "outputs": [
    {
     "name": "stdout",
     "output_type": "stream",
     "text": [
      "<class 'pandas.core.frame.DataFrame'>\n",
      "RangeIndex: 32561 entries, 0 to 32560\n",
      "Data columns (total 15 columns):\n",
      " #   Column          Non-Null Count  Dtype \n",
      "---  ------          --------------  ----- \n",
      " 0   age             32561 non-null  int64 \n",
      " 1   workclass       32561 non-null  object\n",
      " 2   fnlwgt          32561 non-null  int64 \n",
      " 3   education       32561 non-null  object\n",
      " 4   education-num   32561 non-null  int64 \n",
      " 5   marital-status  32561 non-null  object\n",
      " 6   occupation      32561 non-null  object\n",
      " 7   relationship    32561 non-null  object\n",
      " 8   race            32561 non-null  object\n",
      " 9   sex             32561 non-null  object\n",
      " 10  capital-gain    32561 non-null  int64 \n",
      " 11  capital-loss    32561 non-null  int64 \n",
      " 12  hours-per-week  32561 non-null  int64 \n",
      " 13  country         32561 non-null  object\n",
      " 14  salary          32561 non-null  object\n",
      "dtypes: int64(6), object(9)\n",
      "memory usage: 3.7+ MB\n",
      "None\n"
     ]
    }
   ],
   "source": [
    "#Data Cleaning\n",
    "# use DataFrame `mode()` method\n",
    "df = df.fillna(df.mode().iloc[0])\n",
    "print(df.info())"
   ]
  },
  {
   "cell_type": "code",
   "execution_count": 26,
   "metadata": {},
   "outputs": [
    {
     "name": "stdout",
     "output_type": "stream",
     "text": [
      "                age        fnlwgt  education-num  capital-gain  capital-loss  \\\n",
      "count  32561.000000  3.256100e+04   32561.000000  32561.000000  32561.000000   \n",
      "mean      38.581647  1.897784e+05      10.080679   1077.648844     87.303830   \n",
      "std       13.640433  1.055500e+05       2.572720   7385.292085    402.960219   \n",
      "min       17.000000  1.228500e+04       1.000000      0.000000      0.000000   \n",
      "25%       28.000000  1.178270e+05       9.000000      0.000000      0.000000   \n",
      "50%       37.000000  1.783560e+05      10.000000      0.000000      0.000000   \n",
      "75%       48.000000  2.370510e+05      12.000000      0.000000      0.000000   \n",
      "max       90.000000  1.484705e+06      16.000000  99999.000000   4356.000000   \n",
      "\n",
      "       hours-per-week  \n",
      "count    32561.000000  \n",
      "mean        40.437456  \n",
      "std         12.347429  \n",
      "min          1.000000  \n",
      "25%         40.000000  \n",
      "50%         40.000000  \n",
      "75%         45.000000  \n",
      "max         99.000000  \n"
     ]
    }
   ],
   "source": [
    "# checking the outliers\n",
    "print(numerical_subset.describe())"
   ]
  },
  {
   "cell_type": "code",
   "execution_count": 27,
   "metadata": {},
   "outputs": [
    {
     "name": "stdout",
     "output_type": "stream",
     "text": [
      "There's 159 outlier in the capital-gain column\n",
      "There's 85 outlier in the hours-per-week column\n"
     ]
    }
   ],
   "source": [
    "# check the quantity of this outlier\n",
    "print(f\"There's {df[df['capital-gain'] == 99999].shape[0]} outlier in the capital-gain column\")\n",
    "print(f\"There's {df[df['hours-per-week'] == 99].shape[0]} outlier in the hours-per-week column\")"
   ]
  },
  {
   "cell_type": "code",
   "execution_count": 28,
   "metadata": {},
   "outputs": [
    {
     "name": "stdout",
     "output_type": "stream",
     "text": [
      "                age        fnlwgt  education-num  capital-gain  capital-loss  \\\n",
      "count  32561.000000  3.256100e+04   32561.000000  32561.000000  32561.000000   \n",
      "mean      38.581647  1.897784e+05      10.080679    594.601799     87.303830   \n",
      "std       13.640433  1.055500e+05       2.572720   2554.224665    402.960219   \n",
      "min       17.000000  1.228500e+04       1.000000      0.000000      0.000000   \n",
      "25%       28.000000  1.178270e+05       9.000000      0.000000      0.000000   \n",
      "50%       37.000000  1.783560e+05      10.000000      0.000000      0.000000   \n",
      "75%       48.000000  2.370510e+05      12.000000      0.000000      0.000000   \n",
      "max       90.000000  1.484705e+06      16.000000  41310.000000   4356.000000   \n",
      "\n",
      "       hours-per-week  \n",
      "count    32561.000000  \n",
      "mean        40.284579  \n",
      "std         11.978418  \n",
      "min          1.000000  \n",
      "25%         40.000000  \n",
      "50%         40.000000  \n",
      "75%         45.000000  \n",
      "max         98.000000  \n"
     ]
    }
   ],
   "source": [
    "# replace it with mean value\n",
    "df['capital-gain'].replace(99999, np.mean(df['capital-gain'].values), inplace=True)\n",
    "df['hours-per-week'].replace(99, np.mean(df['hours-per-week'].values), inplace=True)\n",
    "print(df.describe())"
   ]
  },
  {
   "cell_type": "code",
   "execution_count": 54,
   "metadata": {},
   "outputs": [],
   "source": [
    "df.to_csv('adult_cleaned.csv', index=False)"
   ]
  },
  {
   "cell_type": "code",
   "execution_count": 35,
   "metadata": {},
   "outputs": [],
   "source": [
    "import pandas as pd\n",
    "import numpy as np\n",
    "from sklearn.preprocessing import LabelEncoder\n",
    "from sklearn.preprocessing import OneHotEncoder\n",
    "from sklearn.preprocessing import MinMaxScaler\n",
    "from sklearn.pipeline import Pipeline\n",
    "from sklearn.compose import ColumnTransformer\n",
    "from sklearn.model_selection import cross_val_score\n",
    "from sklearn.model_selection import RepeatedStratifiedKFold\n",
    "\n",
    "\n",
    "def load_dataset(filename):\n",
    "    df = pd.read_csv(filename)\n",
    "    X, y = df.iloc[:, :-1], df.iloc[:, -1]\n",
    "    cate_index = X.select_dtypes(include=['object']).columns\n",
    "    num_index = X.select_dtypes(include=['int64', 'float64']).columns\n",
    "    y = LabelEncoder().fit_transform(y)\n",
    "    \n",
    "    return X, y, cate_index, num_index\n",
    "\n",
    "def evaluate_model(X, y, model):\n",
    "    cv = RepeatedStratifiedKFold(n_splits=10, n_repeats=3, random_state=42)\n",
    "    scores = cross_val_score(model, X, y, scoring='accuracy', cv=cv, n_jobs=-1)\n",
    "\n",
    "    return scores"
   ]
  },
  {
   "cell_type": "code",
   "execution_count": 37,
   "metadata": {},
   "outputs": [],
   "source": [
    "from sklearn.dummy import DummyClassifier\n",
    "\n",
    "X, y, cate_index, num_index = load_dataset('adult_cleaned.csv')\n",
    "model = DummyClassifier(strategy='most_frequent')"
   ]
  },
  {
   "cell_type": "code",
   "execution_count": 38,
   "metadata": {},
   "outputs": [
    {
     "name": "stdout",
     "output_type": "stream",
     "text": [
      "[0.75898066 0.75921376 0.75921376 0.75921376 0.75921376 0.75921376\n",
      " 0.75921376 0.75921376 0.75921376 0.75921376 0.75898066 0.75921376\n",
      " 0.75921376 0.75921376 0.75921376 0.75921376 0.75921376 0.75921376\n",
      " 0.75921376 0.75921376 0.75898066 0.75921376 0.75921376 0.75921376\n",
      " 0.75921376 0.75921376 0.75921376 0.75921376 0.75921376 0.75921376]\n"
     ]
    }
   ],
   "source": [
    "scores = evaluate_model(X, y, model)\n",
    "print(scores)"
   ]
  },
  {
   "cell_type": "code",
   "execution_count": 39,
   "metadata": {},
   "outputs": [
    {
     "name": "stdout",
     "output_type": "stream",
     "text": [
      "The Dummy Classifier mean accuracy: 75.92%, with Standard Deviation: 0.00\n"
     ]
    }
   ],
   "source": [
    "print(f\"The Dummy Classifier mean accuracy: {(np.mean(scores)*100):.2f}%, with Standard Deviation: {np.std(scores):.2f}\")"
   ]
  },
  {
   "cell_type": "code",
   "execution_count": 40,
   "metadata": {},
   "outputs": [
    {
     "name": "stdout",
     "output_type": "stream",
     "text": [
      "The type of dataset: <class 'pandas.core.frame.DataFrame'>.\n",
      "The shape of the dataset: Row: 32561, with 14 fetures\n",
      "The type of the target label: <class 'numpy.ndarray'>\n",
      "The shape of the target label is: 32561 dimensional vector.\n"
     ]
    }
   ],
   "source": [
    "print(f\"The type of dataset: {type(X)}.\")\n",
    "print(f\"The shape of the dataset: Row: {X.shape[0]}, with {X.shape[1]} fetures\")\n",
    "print(f\"The type of the target label: {type(y)}\")\n",
    "print(f\"The shape of the target label is: {y.shape[0]} dimensional vector.\")"
   ]
  },
  {
   "cell_type": "markdown",
   "metadata": {},
   "source": [
    "### Model evaluate and Fine tunning"
   ]
  },
  {
   "cell_type": "code",
   "execution_count": 41,
   "metadata": {},
   "outputs": [
    {
     "name": "stdout",
     "output_type": "stream",
     "text": [
      "<class 'pandas.core.frame.DataFrame'>\n",
      "(32561, 14)\n",
      "<class 'numpy.ndarray'>\n",
      "(32561,)\n"
     ]
    }
   ],
   "source": [
    "import numpy as np\n",
    "import pandas as pd\n",
    "from sklearn.preprocessing import LabelEncoder\n",
    "from sklearn.preprocessing import OneHotEncoder\n",
    "from sklearn.preprocessing import MinMaxScaler\n",
    "from sklearn.pipeline import Pipeline\n",
    "from sklearn.model_selection import cross_val_score\n",
    "from sklearn.model_selection import train_test_split\n",
    "from sklearn.model_selection import RepeatedStratifiedKFold\n",
    "from sklearn.ensemble import GradientBoostingClassifier\n",
    "from sklearn.tree import DecisionTreeClassifier\n",
    "from sklearn.ensemble import RandomForestClassifier\n",
    "from sklearn.neural_network import MLPClassifier\n",
    "from sklearn.svm import SVC\n",
    "from sklearn.ensemble import BaggingClassifier\n",
    "\n",
    "def load_dataset(filename):\n",
    "    df = pd.read_csv(filename)\n",
    "    X, y = df.iloc[:, :-1], df.iloc[:, -1]\n",
    "    cate_index = X.select_dtypes(include=['object']).columns\n",
    "    num_index = X.select_dtypes(include=['int64', 'float64']).columns\n",
    "    y = LabelEncoder().fit_transform(y)\n",
    "    return X, y, cate_index, num_index\n",
    "\n",
    "X, y, cate_index, num_index = load_dataset('adult_cleaned.csv')\n",
    "print(type(X))\n",
    "print(X.shape)\n",
    "print(type(y))\n",
    "print(y.shape)"
   ]
  },
  {
   "cell_type": "markdown",
   "metadata": {},
   "source": [
    "#evaluate the following machine learning models on the given dataset:\n",
    "- Decision Tree (CART)\n",
    "- Support Vector Machine (SVM)\n",
    "- Bagged Decision Trees (BAG)\n",
    "- Random Forest (RF)\n",
    "- Gradient Boosting Machine (GBM)"
   ]
  },
  {
   "cell_type": "code",
   "execution_count": 42,
   "metadata": {},
   "outputs": [],
   "source": [
    "def generate_models():\n",
    "    models, names = [], []\n",
    "    names.append('CART')\n",
    "    models.append(DecisionTreeClassifier())\n",
    "    names.append('SVM')\n",
    "    models.append(SVC(gamma='scale'))\n",
    "    names.append('BAG')\n",
    "    models.append(BaggingClassifier(n_estimators=100))\n",
    "    names.append('RF')\n",
    "    models.append(RandomForestClassifier(n_estimators=100))\n",
    "    names.append('GBM')\n",
    "    models.append(GradientBoostingClassifier(n_estimators=100))\n",
    "    names.append('Neural Network')\n",
    "    models.append(MLPClassifier(early_stopping=True))\n",
    "    return models, names\n",
    "\n",
    "models, names = generate_models()"
   ]
  },
  {
   "cell_type": "code",
   "execution_count": 55,
   "metadata": {},
   "outputs": [],
   "source": [
    "##\"encoding\" categorical feature into numerical feature using OneHotEncoder"
   ]
  },
  {
   "cell_type": "code",
   "execution_count": 43,
   "metadata": {},
   "outputs": [
    {
     "name": "stdout",
     "output_type": "stream",
     "text": [
      "[ColumnTransformer] ... (1 of 2) Processing Categorical, total=   0.1s\n",
      "[ColumnTransformer] ..... (2 of 2) Processing Numerical, total=   0.0s\n",
      "<class 'scipy.sparse.csr.csr_matrix'>\n",
      "(32561, 108)\n"
     ]
    }
   ],
   "source": [
    "steps = [('Categorical', OneHotEncoder(handle_unknown='ignore'), cate_index), ('Numerical', MinMaxScaler(), num_index)]\n",
    "\n",
    "from sklearn.compose import ColumnTransformer\n",
    "transformer = ColumnTransformer(steps, verbose=True)\n",
    "X = transformer.fit_transform(X)\n",
    "\n",
    "print(type(X))\n",
    "print(X.shape)"
   ]
  },
  {
   "cell_type": "code",
   "execution_count": 44,
   "metadata": {},
   "outputs": [
    {
     "name": "stdout",
     "output_type": "stream",
     "text": [
      "(22792, 108)\n",
      "(9769, 108)\n",
      "(22792,)\n",
      "(9769,)\n"
     ]
    }
   ],
   "source": [
    "from sklearn.model_selection import train_test_split\n",
    "\n",
    "X_train, X_test, y_train, y_test = train_test_split(X, y, test_size=0.3, random_state=42, stratify=y)\n",
    "print(X_train.shape)\n",
    "print(X_test.shape)\n",
    "print(y_train.shape)\n",
    "print(y_test.shape)"
   ]
  },
  {
   "cell_type": "code",
   "execution_count": 45,
   "metadata": {},
   "outputs": [],
   "source": [
    "# filter unwanted warning\n",
    "import warnings\n",
    "warnings.filterwarnings('ignore')"
   ]
  },
  {
   "cell_type": "code",
   "execution_count": 46,
   "metadata": {},
   "outputs": [
    {
     "name": "stdout",
     "output_type": "stream",
     "text": [
      "\n",
      "    ********************************\n",
      "     Now evaluating CART model\n",
      "    ********************************\n",
      "\n",
      "The CART model average accuracy is: 80.96%, with Standard Deviation: 0.72.\n",
      "\n",
      "    ********************************\n",
      "     Now evaluating SVM model\n",
      "    ********************************\n",
      "\n",
      "The SVM model average accuracy is: 84.36%, with Standard Deviation: 0.73.\n",
      "\n",
      "    ********************************\n",
      "     Now evaluating BAG model\n",
      "    ********************************\n",
      "\n",
      "The BAG model average accuracy is: 85.39%, with Standard Deviation: 0.62.\n",
      "\n",
      "    ********************************\n",
      "     Now evaluating RF model\n",
      "    ********************************\n",
      "\n",
      "The RF model average accuracy is: 85.07%, with Standard Deviation: 0.76.\n",
      "\n",
      "    ********************************\n",
      "     Now evaluating GBM model\n",
      "    ********************************\n",
      "\n",
      "The GBM model average accuracy is: 86.47%, with Standard Deviation: 0.63.\n",
      "\n",
      "    ********************************\n",
      "     Now evaluating Neural Network model\n",
      "    ********************************\n",
      "\n",
      "The Neural Network model average accuracy is: 84.97%, with Standard Deviation: 0.72.\n"
     ]
    }
   ],
   "source": [
    "# evaluate each model in default parameters\n",
    "for i in range(len(models)):\n",
    "    print(f\"\"\"\n",
    "    ********************************\n",
    "     Now evaluating {names[i]} model\n",
    "    ********************************\\n\"\"\")\n",
    "    \n",
    "    scores = evaluate_model(X_train, y_train, models[i])\n",
    "    print(f\"The {names[i]} model average accuracy is: {(np.mean(scores)*100):.2f}%, with Standard Deviation: {(np.std(scores)*100):.2f}.\")"
   ]
  },
  {
   "cell_type": "markdown",
   "metadata": {},
   "source": [
    "### The best two performance algorithms:\n",
    "\n",
    "- BaggingClassfier(n_estimators=100)\n",
    "- GradientBoostingClassfier(n_estimators=100)"
   ]
  },
  {
   "cell_type": "code",
   "execution_count": 47,
   "metadata": {},
   "outputs": [],
   "source": [
    "# fine tune BaggingClassifier\n",
    "\n",
    "from sklearn.model_selection import GridSearchCV\n",
    "\n",
    "BAGgrid = {'n_estimators': [100, 200]}\n",
    "cv = RepeatedStratifiedKFold(n_splits=5, n_repeats=2, random_state=42)\n",
    "BAGclf = BaggingClassifier()\n",
    "BAGgrid_search = GridSearchCV(estimator=BAGclf, param_grid=BAGgrid, n_jobs=-1, cv=cv, \n",
    "                              scoring='accuracy', error_score=0)\n",
    "BAGgrid_result = BAGgrid_search.fit(X_train, y_train)"
   ]
  },
  {
   "cell_type": "code",
   "execution_count": 48,
   "metadata": {},
   "outputs": [
    {
     "name": "stdout",
     "output_type": "stream",
     "text": [
      "0.8531504064355969\n",
      "{'n_estimators': 200}\n"
     ]
    }
   ],
   "source": [
    "print(BAGgrid_result.best_score_)\n",
    "print(BAGgrid_result.best_params_)"
   ]
  },
  {
   "cell_type": "code",
   "execution_count": 49,
   "metadata": {},
   "outputs": [
    {
     "data": {
      "text/plain": [
       "GradientBoostingClassifier(max_depth=8, max_features='sqrt',\n",
       "                           min_samples_leaf=50, min_samples_split=500,\n",
       "                           n_estimators=200, random_state=42, subsample=0.8)"
      ]
     },
     "execution_count": 49,
     "metadata": {},
     "output_type": "execute_result"
    }
   ],
   "source": [
    "model = GradientBoostingClassifier(n_estimators=200, learning_rate=0.1, min_samples_split=500, min_samples_leaf=50, \n",
    "                                   max_depth=8, max_features='sqrt', subsample=0.8, random_state=42)\n",
    "\n",
    "model.fit(X_train, y_train)"
   ]
  },
  {
   "cell_type": "code",
   "execution_count": 50,
   "metadata": {},
   "outputs": [
    {
     "name": "stdout",
     "output_type": "stream",
     "text": [
      "The model test set accuracy is: 87.1%.\n"
     ]
    }
   ],
   "source": [
    "# evaluate the testing subset\n",
    "TestScore = model.score(X_test, y_test)\n",
    "print(f\"The model test set accuracy is: {(TestScore*100):.1f}%.\")"
   ]
  },
  {
   "cell_type": "code",
   "execution_count": 51,
   "metadata": {},
   "outputs": [
    {
     "name": "stdout",
     "output_type": "stream",
     "text": [
      "              precision    recall  f1-score   support\n",
      "\n",
      "           0       0.90      0.94      0.92      7417\n",
      "           1       0.77      0.65      0.71      2352\n",
      "\n",
      "    accuracy                           0.87      9769\n",
      "   macro avg       0.84      0.80      0.81      9769\n",
      "weighted avg       0.87      0.87      0.87      9769\n",
      "\n"
     ]
    }
   ],
   "source": [
    "# perform the Classification Report\n",
    "from sklearn.metrics import classification_report\n",
    "\n",
    "predicted = model.predict(X_test)\n",
    "print(classification_report(y_test, predicted))\n"
   ]
  },
  {
   "cell_type": "code",
   "execution_count": 53,
   "metadata": {},
   "outputs": [
    {
     "data": {
      "text/plain": [
       "['final_model.sav']"
      ]
     },
     "execution_count": 53,
     "metadata": {},
     "output_type": "execute_result"
    }
   ],
   "source": [
    "# to save the model\n",
    "import joblib\n",
    "joblib.dump(model, 'final_model.sav')"
   ]
  },
  {
   "cell_type": "code",
   "execution_count": null,
   "metadata": {},
   "outputs": [],
   "source": []
  }
 ],
 "metadata": {
  "kernelspec": {
   "display_name": "Python 3",
   "language": "python",
   "name": "python3"
  },
  "language_info": {
   "codemirror_mode": {
    "name": "ipython",
    "version": 3
   },
   "file_extension": ".py",
   "mimetype": "text/x-python",
   "name": "python",
   "nbconvert_exporter": "python",
   "pygments_lexer": "ipython3",
   "version": "3.7.6"
  }
 },
 "nbformat": 4,
 "nbformat_minor": 4
}
